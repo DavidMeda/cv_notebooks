{
 "cells": [
  {
   "cell_type": "markdown",
   "metadata": {},
   "source": [
    "# Pytorch - Getting started\n",
    "\n",
    "More info at https://pytorch.org/tutorials/"
   ]
  },
  {
   "cell_type": "code",
   "execution_count": 31,
   "metadata": {},
   "outputs": [],
   "source": [
    "import torch\n",
    "import numpy as np\n",
    "\n",
    "import matplotlib.pyplot as plt\n",
    "%matplotlib inline"
   ]
  },
  {
   "cell_type": "code",
   "execution_count": 4,
   "metadata": {},
   "outputs": [
    {
     "name": "stdout",
     "output_type": "stream",
     "text": [
      "tensor([[0.6029, 0.4131, 0.6428],\n",
      "        [0.2410, 0.3624, 0.4268],\n",
      "        [0.5209, 0.1688, 0.5615],\n",
      "        [0.0075, 0.4773, 0.4941],\n",
      "        [0.1515, 0.2772, 0.1006]])\n"
     ]
    }
   ],
   "source": [
    "# init tensor with random value\n",
    "x = torch.rand(5, 3)\n",
    "print(x)"
   ]
  },
  {
   "cell_type": "code",
   "execution_count": 18,
   "metadata": {},
   "outputs": [
    {
     "name": "stdout",
     "output_type": "stream",
     "text": [
      "torch.FloatTensor\n",
      "torch.float32\n",
      "float64\n"
     ]
    }
   ],
   "source": [
    "print(x.type()) # <class 'torch.FloatTensor'>\n",
    "print(x.dtype) # float32\n",
    "\n",
    "y = np.zeros((4, 4))\n",
    "print(y.dtype) # float64"
   ]
  },
  {
   "cell_type": "code",
   "execution_count": 5,
   "metadata": {},
   "outputs": [
    {
     "name": "stdout",
     "output_type": "stream",
     "text": [
      "tensor([[0, 0, 0],\n",
      "        [0, 0, 0],\n",
      "        [0, 0, 0],\n",
      "        [0, 0, 0],\n",
      "        [0, 0, 0]])\n"
     ]
    }
   ],
   "source": [
    "# tensor of 0s, the ones() method init with value of 1\n",
    "x = torch.zeros(5, 3, dtype=torch.long)\n",
    "print(x)"
   ]
  },
  {
   "cell_type": "code",
   "execution_count": 6,
   "metadata": {},
   "outputs": [
    {
     "name": "stdout",
     "output_type": "stream",
     "text": [
      "tensor([[5, 3, 1],\n",
      "        [3, 5, 2],\n",
      "        [4, 4, 4],\n",
      "        [1, 2, 3],\n",
      "        [0, 0, 1]])\n"
     ]
    }
   ],
   "source": [
    "# build tensor from multi-dimensional list\n",
    "x = torch.tensor([[5, 3, 1],[3,5,2], [4,4,4],[1,2,3],[0,0,1]])\n",
    "print(x)"
   ]
  },
  {
   "cell_type": "code",
   "execution_count": 7,
   "metadata": {},
   "outputs": [
    {
     "name": "stdout",
     "output_type": "stream",
     "text": [
      "torch.Size([5, 3])\n",
      "torch.Size([5, 3])\n"
     ]
    }
   ],
   "source": [
    "# shape of the tensor\n",
    "print(x.size())\n",
    "print(x.shape)"
   ]
  },
  {
   "cell_type": "markdown",
   "metadata": {},
   "source": [
    "#### From numpy"
   ]
  },
  {
   "cell_type": "code",
   "execution_count": 10,
   "metadata": {},
   "outputs": [
    {
     "name": "stdout",
     "output_type": "stream",
     "text": [
      "<class 'numpy.ndarray'>\n"
     ]
    }
   ],
   "source": [
    "import numpy as np\n",
    "\n",
    "# Create a numpy array.\n",
    "x = np.array([[1, 2], [3, 4]])\n",
    "\n",
    "\n",
    "# Convert the numpy array to a torch tensor.\n",
    "y = torch.from_numpy(x)\n",
    "\n",
    "# Convert the torch tensor to a numpy array.\n",
    "z = y.numpy()\n",
    "\n",
    "print(type(z))"
   ]
  },
  {
   "cell_type": "markdown",
   "metadata": {},
   "source": [
    "## Basic operations "
   ]
  },
  {
   "cell_type": "code",
   "execution_count": 11,
   "metadata": {},
   "outputs": [
    {
     "name": "stdout",
     "output_type": "stream",
     "text": [
      "tensor([[1.0256, 1.4811, 0.6062],\n",
      "        [0.5074, 1.4098, 0.6208],\n",
      "        [0.6007, 1.7684, 1.5416],\n",
      "        [1.1032, 0.7785, 1.1547],\n",
      "        [0.2413, 1.0324, 1.2695]])\n"
     ]
    }
   ],
   "source": [
    "x = torch.rand([5,3])\n",
    "\n",
    "y = torch.rand([5,3])\n",
    "\n",
    "z = x + y\n",
    "\n",
    "print(z)"
   ]
  },
  {
   "cell_type": "markdown",
   "metadata": {},
   "source": [
    "**Reshape**\n",
    "\n",
    "In pytorch il metodo *view* permette di cambiare le dimensioni di un tensore. Un tensore contiene una sequenza di valori e le dimensioni sono solo una loro organizzazione logica. Cambiare dimensioni non determina un cambiamento della struttura dati, quindi... per tensori di \"grandi\" dimensioni cambiare la shape del tensore non ha un impatto sulle prestazioni, a differenza della copia."
   ]
  },
  {
   "cell_type": "code",
   "execution_count": 19,
   "metadata": {},
   "outputs": [
    {
     "name": "stdout",
     "output_type": "stream",
     "text": [
      "torch.Size([4, 4]) torch.Size([16]) torch.Size([2, 8])\n"
     ]
    }
   ],
   "source": [
    "x = torch.randn(4, 4)\n",
    "y = x.view(16)\n",
    "z = x.view(-1, 8)  # the size -1 is inferred from other dimensions\n",
    "print(x.shape, y.shape, z.shape)\n"
   ]
  },
  {
   "cell_type": "markdown",
   "metadata": {},
   "source": [
    "## Exploiting GPUs"
   ]
  },
  {
   "cell_type": "code",
   "execution_count": 15,
   "metadata": {},
   "outputs": [
    {
     "name": "stdout",
     "output_type": "stream",
     "text": [
      "tensor([[ 0.1828,  1.8583,  1.8881],\n",
      "        [ 1.0323,  1.4841,  1.4918],\n",
      "        [-0.7060,  1.0899,  0.0423],\n",
      "        [ 0.8796,  2.3057,  0.6185],\n",
      "        [ 0.6974,  0.8659,  0.5712]])\n",
      "tensor([[ 0.1828,  1.8583,  1.8881],\n",
      "        [ 1.0323,  1.4841,  1.4918],\n",
      "        [-0.7060,  1.0899,  0.0423],\n",
      "        [ 0.8796,  2.3057,  0.6185],\n",
      "        [ 0.6974,  0.8659,  0.5712]])\n"
     ]
    }
   ],
   "source": [
    "if torch.cuda.is_available():\n",
    "    device = torch.device(\"cuda\")          # a CUDA device object\n",
    "else:\n",
    "    device = torch.device(\"cpu\")          # a cpu device \n",
    "\n",
    "x = torch.randn(5, 3)\n",
    "y = torch.ones([5,3], device=device)  # directly create a tensor on device\n",
    "x = x.to(device)                       # or just use strings ``.to(\"cuda\")``\n",
    "z = x + y\n",
    "\n",
    "print(z)\n",
    "print(z.to(\"cpu\"))    \n",
    "    \n",
    "if torch.cuda.is_available():\n",
    "    print('move y from cpu to cuda')\n",
    "    y = torch.ones([5,3])\n",
    "    y = y.cuda()"
   ]
  },
  {
   "cell_type": "markdown",
   "metadata": {},
   "source": [
    "## Automatic differentiation"
   ]
  },
  {
   "cell_type": "code",
   "execution_count": 92,
   "metadata": {},
   "outputs": [
    {
     "name": "stdout",
     "output_type": "stream",
     "text": [
      "tensor([[1., 1.],\n",
      "        [1., 1.]], requires_grad=True)\n"
     ]
    }
   ],
   "source": [
    "x = torch.ones(2, 2, requires_grad=True)\n",
    "\n",
    "print(x)"
   ]
  },
  {
   "cell_type": "code",
   "execution_count": 93,
   "metadata": {},
   "outputs": [
    {
     "name": "stdout",
     "output_type": "stream",
     "text": [
      "tensor([[3., 3.],\n",
      "        [3., 3.]], grad_fn=<AddBackward0>)\n"
     ]
    }
   ],
   "source": [
    "# tensors derived from other tensors track functions. These functions are the basis for computing the gradient\n",
    "y = x + 2\n",
    "\n",
    "print(y)"
   ]
  },
  {
   "cell_type": "code",
   "execution_count": 94,
   "metadata": {},
   "outputs": [
    {
     "name": "stdout",
     "output_type": "stream",
     "text": [
      "z = tensor([[9., 9.],\n",
      "        [9., 9.]], grad_fn=<PowBackward0>)\n",
      "t = tensor([[27., 27.],\n",
      "        [27., 27.]], grad_fn=<MulBackward0>)\n",
      "out = 9.0\n",
      "\n",
      "\n",
      "grad z = <PowBackward0 object at 0x12a7baf28>\n",
      "grad t = <MulBackward0 object at 0x12a7baeb8>\n",
      "grad out = <MeanBackward0 object at 0x12a7baf28>\n"
     ]
    }
   ],
   "source": [
    "z = torch.pow(y,2)\n",
    "\n",
    "t = 3 * z\n",
    "\n",
    "out = z.mean()\n",
    "\n",
    "print(f'z = {z}')\n",
    "print(f't = {t}')\n",
    "print(f'out = {out}')\n",
    "\n",
    "print(f'\\n\\ngrad z = {z.grad_fn}')\n",
    "print(f'grad t = {t.grad_fn}')\n",
    "print(f'grad out = {out.grad_fn}')\n"
   ]
  },
  {
   "cell_type": "markdown",
   "metadata": {},
   "source": [
    "## Gradients"
   ]
  },
  {
   "cell_type": "code",
   "execution_count": 95,
   "metadata": {},
   "outputs": [
    {
     "name": "stdout",
     "output_type": "stream",
     "text": [
      "OLD grad value is None\n"
     ]
    }
   ],
   "source": [
    "print(f'OLD grad value is {x.grad}')\n",
    "out.backward()"
   ]
  },
  {
   "cell_type": "markdown",
   "metadata": {},
   "source": [
    "print gradients $d(out)/dx$"
   ]
  },
  {
   "cell_type": "code",
   "execution_count": 96,
   "metadata": {},
   "outputs": [
    {
     "name": "stdout",
     "output_type": "stream",
     "text": [
      "tensor([[1.5000, 1.5000],\n",
      "        [1.5000, 1.5000]])\n"
     ]
    }
   ],
   "source": [
    "print(x.grad)"
   ]
  },
  {
   "cell_type": "markdown",
   "metadata": {},
   "source": [
    "Il calcolo del gradiente tramite il metodo *backward* funziona grazie al concetto di computation graph. Pytorch crea un grafo delle operazioni e naviga a ritroso su questo grafo per effettuare il calcolo.\n",
    "\n",
    "Ad esempio, la variabile out definita in precedenza costruisce il seguente grafo.\n",
    "\n",
    "    x = zeros(2, 2)\n",
    "    y = x + 2\n",
    "    z = y ^ 2\n",
    "    out = mean(z)\n",
    "\n",
    "Si utilizza il package torchviz per creare il Computational Graph a partire dal tensore"
   ]
  },
  {
   "cell_type": "code",
   "execution_count": 97,
   "metadata": {},
   "outputs": [
    {
     "data": {
      "image/svg+xml": [
       "<?xml version=\"1.0\" encoding=\"UTF-8\" standalone=\"no\"?>\n",
       "<!DOCTYPE svg PUBLIC \"-//W3C//DTD SVG 1.1//EN\"\n",
       " \"http://www.w3.org/Graphics/SVG/1.1/DTD/svg11.dtd\">\n",
       "<!-- Generated by graphviz version 2.40.1 (20161225.0304)\n",
       " -->\n",
       "<!-- Title: %3 Pages: 1 -->\n",
       "<svg width=\"106pt\" height=\"214pt\"\n",
       " viewBox=\"0.00 0.00 106.00 214.00\" xmlns=\"http://www.w3.org/2000/svg\" xmlns:xlink=\"http://www.w3.org/1999/xlink\">\n",
       "<g id=\"graph0\" class=\"graph\" transform=\"scale(1 1) rotate(0) translate(4 210)\">\n",
       "<title>%3</title>\n",
       "<polygon fill=\"#ffffff\" stroke=\"transparent\" points=\"-4,4 -4,-210 102,-210 102,4 -4,4\"/>\n",
       "<!-- 5005368792 -->\n",
       "<g id=\"node1\" class=\"node\">\n",
       "<title>5005368792</title>\n",
       "<polygon fill=\"#caff70\" stroke=\"#000000\" points=\"98,-21 0,-21 0,0 98,0 98,-21\"/>\n",
       "<text text-anchor=\"middle\" x=\"49\" y=\"-7.4\" font-family=\"Times,serif\" font-size=\"12.00\" fill=\"#000000\">MeanBackward0</text>\n",
       "</g>\n",
       "<!-- 5005369072 -->\n",
       "<g id=\"node2\" class=\"node\">\n",
       "<title>5005369072</title>\n",
       "<polygon fill=\"#d3d3d3\" stroke=\"#000000\" points=\"95,-78 3,-78 3,-57 95,-57 95,-78\"/>\n",
       "<text text-anchor=\"middle\" x=\"49\" y=\"-64.4\" font-family=\"Times,serif\" font-size=\"12.00\" fill=\"#000000\">PowBackward0</text>\n",
       "</g>\n",
       "<!-- 5005369072&#45;&gt;5005368792 -->\n",
       "<g id=\"edge1\" class=\"edge\">\n",
       "<title>5005369072&#45;&gt;5005368792</title>\n",
       "<path fill=\"none\" stroke=\"#000000\" d=\"M49,-56.7787C49,-49.6134 49,-39.9517 49,-31.3097\"/>\n",
       "<polygon fill=\"#000000\" stroke=\"#000000\" points=\"52.5001,-31.1732 49,-21.1732 45.5001,-31.1732 52.5001,-31.1732\"/>\n",
       "</g>\n",
       "<!-- 5019377904 -->\n",
       "<g id=\"node3\" class=\"node\">\n",
       "<title>5019377904</title>\n",
       "<polygon fill=\"#d3d3d3\" stroke=\"#000000\" points=\"95,-135 3,-135 3,-114 95,-114 95,-135\"/>\n",
       "<text text-anchor=\"middle\" x=\"49\" y=\"-121.4\" font-family=\"Times,serif\" font-size=\"12.00\" fill=\"#000000\">AddBackward0</text>\n",
       "</g>\n",
       "<!-- 5019377904&#45;&gt;5005369072 -->\n",
       "<g id=\"edge2\" class=\"edge\">\n",
       "<title>5019377904&#45;&gt;5005369072</title>\n",
       "<path fill=\"none\" stroke=\"#000000\" d=\"M49,-113.7787C49,-106.6134 49,-96.9517 49,-88.3097\"/>\n",
       "<polygon fill=\"#000000\" stroke=\"#000000\" points=\"52.5001,-88.1732 49,-78.1732 45.5001,-88.1732 52.5001,-88.1732\"/>\n",
       "</g>\n",
       "<!-- 4483777704 -->\n",
       "<g id=\"node4\" class=\"node\">\n",
       "<title>4483777704</title>\n",
       "<polygon fill=\"#add8e6\" stroke=\"#000000\" points=\"76,-206 22,-206 22,-171 76,-171 76,-206\"/>\n",
       "<text text-anchor=\"middle\" x=\"49\" y=\"-178.4\" font-family=\"Times,serif\" font-size=\"12.00\" fill=\"#000000\"> (2, 2)</text>\n",
       "</g>\n",
       "<!-- 4483777704&#45;&gt;5019377904 -->\n",
       "<g id=\"edge3\" class=\"edge\">\n",
       "<title>4483777704&#45;&gt;5019377904</title>\n",
       "<path fill=\"none\" stroke=\"#000000\" d=\"M49,-170.6724C49,-162.8405 49,-153.5893 49,-145.4323\"/>\n",
       "<polygon fill=\"#000000\" stroke=\"#000000\" points=\"52.5001,-145.2234 49,-135.2234 45.5001,-145.2235 52.5001,-145.2234\"/>\n",
       "</g>\n",
       "</g>\n",
       "</svg>\n"
      ],
      "text/plain": [
       "<graphviz.dot.Digraph at 0x12a7baeb8>"
      ]
     },
     "execution_count": 97,
     "metadata": {},
     "output_type": "execute_result"
    }
   ],
   "source": [
    "import torchviz\n",
    "\n",
    "torchviz.make_dot(out)"
   ]
  },
  {
   "cell_type": "markdown",
   "metadata": {},
   "source": [
    "# Neural networks in pytorch"
   ]
  },
  {
   "cell_type": "markdown",
   "metadata": {},
   "source": [
    "## Basic Networks\n",
    "\n",
    "Esempio di un semplice task di regressione lineare"
   ]
  },
  {
   "cell_type": "code",
   "execution_count": 37,
   "metadata": {},
   "outputs": [],
   "source": [
    "import torch\n",
    "import torch.nn as nn\n"
   ]
  },
  {
   "cell_type": "code",
   "execution_count": 38,
   "metadata": {},
   "outputs": [
    {
     "data": {
      "image/png": "[encoded data removed]",
      "text/plain": [
       "<Figure size 432x288 with 1 Axes>"
      ]
     },
     "metadata": {
      "needs_background": "light"
     },
     "output_type": "display_data"
    }
   ],
   "source": [
    "# Build DATASET\n",
    "\n",
    "input_size = 1\n",
    "output_size = 1\n",
    "\n",
    "# Toy dataset\n",
    "x_train = np.array([[3.3], [4.4], [5.5], [6.71], [6.93], [4.168], \n",
    "                    [9.779], [6.182], [7.59], [2.167], [7.042], \n",
    "                    [10.791], [5.313], [7.997], [3.1]], dtype=np.float32)\n",
    "\n",
    "y_train = np.array([[1.7], [2.76], [2.09], [3.19], [1.694], [1.573], \n",
    "                    [3.366], [2.596], [2.53], [1.221], [2.827], \n",
    "                    [3.465], [1.65], [2.904], [1.3]], dtype=np.float32)\n",
    "\n",
    "plt.plot(x_train, y_train, 'ro')\n",
    "plt.show()"
   ]
  },
  {
   "cell_type": "markdown",
   "metadata": {},
   "source": [
    "Costruzione della rete"
   ]
  },
  {
   "cell_type": "code",
   "execution_count": 39,
   "metadata": {},
   "outputs": [],
   "source": [
    "# Linear regression model\n",
    "model = nn.Linear(input_size, output_size)\n",
    "\n",
    "# Loss and optimizer\n",
    "criterion = nn.MSELoss()\n",
    "\n",
    "learning_rate = 0.001\n",
    "optimizer = torch.optim.SGD(model.parameters(), lr=learning_rate)  \n"
   ]
  },
  {
   "cell_type": "markdown",
   "metadata": {},
   "source": [
    "Nel modulo **nn** sono presenti le implementazioni dei principali layer.\n",
    "\n",
    "Il layer *Linear* è implementa la funzione\n",
    "\n",
    "$$ \n",
    "y = A^T x + b\n",
    "$$\n"
   ]
  },
  {
   "cell_type": "code",
   "execution_count": 47,
   "metadata": {},
   "outputs": [
    {
     "name": "stdout",
     "output_type": "stream",
     "text": [
      "Epoch [5/60], Loss: 0.1805\n",
      "Epoch [10/60], Loss: 0.1804\n",
      "Epoch [15/60], Loss: 0.1804\n",
      "Epoch [20/60], Loss: 0.1804\n",
      "Epoch [25/60], Loss: 0.1804\n",
      "Epoch [30/60], Loss: 0.1803\n",
      "Epoch [35/60], Loss: 0.1803\n",
      "Epoch [40/60], Loss: 0.1803\n",
      "Epoch [45/60], Loss: 0.1802\n",
      "Epoch [50/60], Loss: 0.1802\n",
      "Epoch [55/60], Loss: 0.1802\n",
      "Epoch [60/60], Loss: 0.1801\n"
     ]
    }
   ],
   "source": [
    "num_epochs = 60\n",
    "\n",
    "# Convert numpy arrays to torch tensors\n",
    "inputs = torch.from_numpy(x_train)\n",
    "targets = torch.from_numpy(y_train)\n",
    "\n",
    "for epoch in range(num_epochs):\n",
    "    # Forward pass\n",
    "    outputs = model(inputs)\n",
    "    loss = criterion(outputs, targets)\n",
    "    \n",
    "    # Backward and optimize\n",
    "    optimizer.zero_grad()\n",
    "    loss.backward()\n",
    "    optimizer.step()\n",
    "    \n",
    "    if (epoch+1) % 5 == 0:\n",
    "        print ('Epoch [{}/{}], Loss: {:.4f}'.format(epoch+1, num_epochs, loss.item()))\n",
    "        "
   ]
  },
  {
   "cell_type": "markdown",
   "metadata": {},
   "source": [
    "Per addestrare il modello, si effettuano due operazioni principali: forward pass e backward pass. Con il primo si calcolano le performance del modello sul training set, con il secondo si aggiornano i pesi. Lo schema di ogni epoca è riassumibile in:\n",
    "\n",
    "1. si applica il modello al training set (forward)\n",
    "2. si calcola la funzione di loss\n",
    "3. si aggiornano i pesi del modello tramite l'optimizer (backward)\n",
    "\n",
    "N.B. Ad ogni iterazione, prima di aggiornare i pesi dei layer, il valore del gradiente deve essere azzerato. Il metodo *zero_grad* dell'optimizer effettua l'operazione per tutti i tensori presenti nel computation graph"
   ]
  },
  {
   "cell_type": "code",
   "execution_count": 42,
   "metadata": {},
   "outputs": [
    {
     "data": {
      "image/png": "[encoded data removed]",
      "text/plain": [
       "<Figure size 432x288 with 1 Axes>"
      ]
     },
     "metadata": {
      "needs_background": "light"
     },
     "output_type": "display_data"
    }
   ],
   "source": [
    "# Plot the graph\n",
    "predicted = model(torch.from_numpy(x_train)).detach().numpy()\n",
    "plt.plot(x_train, y_train, 'ro', label='Original data')\n",
    "plt.plot(x_train, predicted, label='Fitted line')\n",
    "plt.legend()\n",
    "plt.show()"
   ]
  },
  {
   "cell_type": "code",
   "execution_count": 44,
   "metadata": {},
   "outputs": [
    {
     "name": "stdout",
     "output_type": "stream",
     "text": [
      "input = 3.300 \t->\t output = 1.444 \t (y = 1.700)\n",
      "input = 4.400 \t->\t output = 1.779 \t (y = 2.760)\n",
      "input = 5.500 \t->\t output = 2.113 \t (y = 2.090)\n",
      "input = 6.710 \t->\t output = 2.481 \t (y = 3.190)\n",
      "input = 6.930 \t->\t output = 2.548 \t (y = 1.694)\n",
      "input = 4.168 \t->\t output = 1.708 \t (y = 1.573)\n",
      "input = 9.779 \t->\t output = 3.414 \t (y = 3.366)\n",
      "input = 6.182 \t->\t output = 2.321 \t (y = 2.596)\n",
      "input = 7.590 \t->\t output = 2.749 \t (y = 2.530)\n",
      "input = 2.167 \t->\t output = 1.100 \t (y = 1.221)\n",
      "input = 7.042 \t->\t output = 2.582 \t (y = 2.827)\n",
      "input = 10.791 \t->\t output = 3.722 \t (y = 3.465)\n",
      "input = 5.313 \t->\t output = 2.057 \t (y = 1.650)\n",
      "input = 7.997 \t->\t output = 2.873 \t (y = 2.904)\n",
      "input = 3.100 \t->\t output = 1.384 \t (y = 1.300)\n"
     ]
    }
   ],
   "source": [
    "# compare predictions\n",
    "for x,y,hat_y in zip(x_train,y_train,predicted):\n",
    "    print(f'input = {x[0]:.3f} \\t->\\t output = {hat_y[0]:.3f} \\t (y = {y[0]:.3f})')"
   ]
  },
  {
   "cell_type": "markdown",
   "metadata": {},
   "source": [
    "## Logistic regression "
   ]
  },
  {
   "cell_type": "markdown",
   "metadata": {},
   "source": [
    "L'esempio seguente utilizza i dati visti in precedenza per costruire un modello di classificazione.\n",
    "\n",
    "L'idea è addestrare un modello che approssimi questa regola di classificazione:\n",
    "\n",
    "if $x \\geq 6$ \n",
    "then class = 1\n",
    "else class = 0\n",
    "\n",
    "L'iperpiano $x - 6 = 0$ definisce suddivide il dominio in classe 0 e classe 1."
   ]
  },
  {
   "cell_type": "code",
   "execution_count": 48,
   "metadata": {},
   "outputs": [],
   "source": [
    "x_train = np.array([[3.3], [4.4], [5.5], [6.71], [6.93], [4.168], \n",
    "                    [9.779], [6.182], [7.59], [2.167], [7.042], \n",
    "                    [10.791], [5.313], [7.997], [3.1]], dtype=np.float32)\n",
    "\n",
    "y_train = np.array([\n",
    "    [0.0], [0.0], [0.0], [1.0], [1.0], [0.0], [1.0], [1.0], [1.0], [0.0], [1.0], [1.0], [0.0], [1.0], [0.0]\n",
    "],dtype=np.int)"
   ]
  },
  {
   "cell_type": "code",
   "execution_count": 51,
   "metadata": {},
   "outputs": [
    {
     "name": "stdout",
     "output_type": "stream",
     "text": [
      "Epoch [2000/20000], Loss: 0.4059\n",
      "Epoch [4000/20000], Loss: 0.2964\n",
      "Epoch [6000/20000], Loss: 0.2289\n",
      "Epoch [8000/20000], Loss: 0.1827\n",
      "Epoch [10000/20000], Loss: 0.1493\n",
      "Epoch [12000/20000], Loss: 0.1241\n",
      "Epoch [14000/20000], Loss: 0.1045\n",
      "Epoch [16000/20000], Loss: 0.0889\n",
      "Epoch [18000/20000], Loss: 0.0764\n",
      "Epoch [20000/20000], Loss: 0.0660\n"
     ]
    }
   ],
   "source": [
    "model = nn.Linear(input_size, output_size)\n",
    "\n",
    "# Loss and optimizer\n",
    "criterion = nn.BCELoss()\n",
    "\n",
    "learning_rate = 0.001\n",
    "optimizer = torch.optim.Adam(model.parameters(), lr=learning_rate)  \n",
    "\n",
    "num_epochs = 20000\n",
    "log_freq = num_epochs / 10\n",
    "\n",
    "# Convert numpy arrays to torch tensors\n",
    "inputs = torch.from_numpy(x_train).float()\n",
    "targets = torch.from_numpy(y_train).float()\n",
    "\n",
    "for epoch in range(num_epochs):\n",
    "    # Forward pass\n",
    "    outputs = torch.sigmoid(model(inputs))\n",
    "    loss = criterion(outputs, targets)\n",
    "    \n",
    "    # Backward and optimize\n",
    "    optimizer.zero_grad()\n",
    "    loss.backward()\n",
    "    optimizer.step()\n",
    "    \n",
    "    if (epoch+1) % log_freq == 0:\n",
    "        print ('Epoch [{}/{}], Loss: {:.4f}'.format(epoch+1, num_epochs, loss.item()))\n",
    "        "
   ]
  },
  {
   "cell_type": "code",
   "execution_count": 55,
   "metadata": {},
   "outputs": [
    {
     "data": {
      "image/png": "[encoded data removed]",
      "text/plain": [
       "<Figure size 432x288 with 1 Axes>"
      ]
     },
     "metadata": {
      "needs_background": "light"
     },
     "output_type": "display_data"
    }
   ],
   "source": [
    "# boundary line x >= 6\n",
    "line_y = np.linspace(0, 1., 1000)\n",
    "line_x = [6] * len(line_y)\n",
    "\n",
    "predicted = torch.sigmoid(model(torch.from_numpy(x_train))).detach().numpy()\n",
    "\n",
    "plt.plot(x_train, predicted,'o',label='probabilities')\n",
    "plt.plot(line_x, line_y, 'r')\n",
    "plt.show()"
   ]
  },
  {
   "cell_type": "code",
   "execution_count": 56,
   "metadata": {},
   "outputs": [
    {
     "name": "stdout",
     "output_type": "stream",
     "text": [
      "input = 3.300 \t->\t Probability of 1 = 0.001 \t (y = 0.000)\n",
      "input = 4.400 \t->\t Probability of 1 = 0.015 \t (y = 0.000)\n",
      "input = 5.500 \t->\t Probability of 1 = 0.276 \t (y = 0.000)\n",
      "input = 6.710 \t->\t Probability of 1 = 0.931 \t (y = 1.000)\n",
      "input = 6.930 \t->\t Probability of 1 = 0.963 \t (y = 1.000)\n",
      "input = 4.168 \t->\t Probability of 1 = 0.007 \t (y = 0.000)\n",
      "input = 9.779 \t->\t Probability of 1 = 1.000 \t (y = 1.000)\n",
      "input = 6.182 \t->\t Probability of 1 = 0.740 \t (y = 1.000)\n",
      "input = 7.590 \t->\t Probability of 1 = 0.994 \t (y = 1.000)\n",
      "input = 2.167 \t->\t Probability of 1 = 0.000 \t (y = 0.000)\n",
      "input = 7.042 \t->\t Probability of 1 = 0.973 \t (y = 1.000)\n",
      "input = 10.791 \t->\t Probability of 1 = 1.000 \t (y = 1.000)\n",
      "input = 5.313 \t->\t Probability of 1 = 0.180 \t (y = 0.000)\n",
      "input = 7.997 \t->\t Probability of 1 = 0.998 \t (y = 1.000)\n",
      "input = 3.100 \t->\t Probability of 1 = 0.000 \t (y = 0.000)\n"
     ]
    }
   ],
   "source": [
    "# Predictions\n",
    "for x,y,hat_y in zip(x_train,y_train,predicted):\n",
    "    print(f'input = {x[0]:.3f} \\t->\\t Probability of 1 = {hat_y[0]:.3f} \\t (y = {y[0]:.3f})')    "
   ]
  },
  {
   "cell_type": "markdown",
   "metadata": {},
   "source": [
    "# Classificazione di MNIST"
   ]
  },
  {
   "cell_type": "code",
   "execution_count": 57,
   "metadata": {},
   "outputs": [
    {
     "name": "stdout",
     "output_type": "stream",
     "text": [
      "Downloading http://yann.lecun.com/exdb/mnist/train-images-idx3-ubyte.gz to data/MNIST/raw/train-images-idx3-ubyte.gz\n"
     ]
    },
    {
     "data": {
      "application/vnd.jupyter.widget-view+json": {
       "model_id": "d8325ef6f26b454db0a0552f5b3f3fd4",
       "version_major": 2,
       "version_minor": 0
      },
      "text/plain": [
       "HBox(children=(IntProgress(value=1, bar_style='info', max=1), HTML(value='')))"
      ]
     },
     "metadata": {},
     "output_type": "display_data"
    },
    {
     "name": "stdout",
     "output_type": "stream",
     "text": [
      "\n",
      "Extracting data/MNIST/raw/train-images-idx3-ubyte.gz to data/MNIST/raw\n",
      "Downloading http://yann.lecun.com/exdb/mnist/train-labels-idx1-ubyte.gz to data/MNIST/raw/train-labels-idx1-ubyte.gz\n"
     ]
    },
    {
     "data": {
      "application/vnd.jupyter.widget-view+json": {
       "model_id": "35a946425d9942d38ebaf16823ed5d30",
       "version_major": 2,
       "version_minor": 0
      },
      "text/plain": [
       "HBox(children=(IntProgress(value=1, bar_style='info', max=1), HTML(value='')))"
      ]
     },
     "metadata": {},
     "output_type": "display_data"
    },
    {
     "name": "stdout",
     "output_type": "stream",
     "text": [
      "\n",
      "Extracting data/MNIST/raw/train-labels-idx1-ubyte.gz to data/MNIST/raw\n",
      "Downloading http://yann.lecun.com/exdb/mnist/t10k-images-idx3-ubyte.gz to data/MNIST/raw/t10k-images-idx3-ubyte.gz\n"
     ]
    },
    {
     "data": {
      "application/vnd.jupyter.widget-view+json": {
       "model_id": "c431faa6449e41f7819ac3b8088aed93",
       "version_major": 2,
       "version_minor": 0
      },
      "text/plain": [
       "HBox(children=(IntProgress(value=1, bar_style='info', max=1), HTML(value='')))"
      ]
     },
     "metadata": {},
     "output_type": "display_data"
    },
    {
     "name": "stdout",
     "output_type": "stream",
     "text": [
      "\n",
      "Extracting data/MNIST/raw/t10k-images-idx3-ubyte.gz to data/MNIST/raw\n",
      "Downloading http://yann.lecun.com/exdb/mnist/t10k-labels-idx1-ubyte.gz to data/MNIST/raw/t10k-labels-idx1-ubyte.gz\n"
     ]
    },
    {
     "data": {
      "application/vnd.jupyter.widget-view+json": {
       "model_id": "c63df88028574e989fdf8d950cd19378",
       "version_major": 2,
       "version_minor": 0
      },
      "text/plain": [
       "HBox(children=(IntProgress(value=1, bar_style='info', max=1), HTML(value='')))"
      ]
     },
     "metadata": {},
     "output_type": "display_data"
    },
    {
     "name": "stdout",
     "output_type": "stream",
     "text": [
      "\n",
      "Extracting data/MNIST/raw/t10k-labels-idx1-ubyte.gz to data/MNIST/raw\n",
      "Processing...\n",
      "Done!\n"
     ]
    }
   ],
   "source": [
    "import torchvision\n",
    "import torchvision.transforms as transforms\n",
    "\n",
    "\n",
    "batch_size = 64\n",
    "\n",
    "# MNIST dataset \n",
    "train_dataset = torchvision.datasets.MNIST(root='data', \n",
    "                                           train=True, \n",
    "                                           transform=transforms.ToTensor(),  \n",
    "                                           download=True)\n",
    "\n",
    "test_dataset = torchvision.datasets.MNIST(root='data', \n",
    "                                          train=False, \n",
    "                                          transform=transforms.ToTensor())\n",
    "\n",
    "# Data loader\n",
    "train_loader = torch.utils.data.DataLoader(dataset=train_dataset, \n",
    "                                           batch_size=batch_size, \n",
    "                                           shuffle=True)\n",
    "\n",
    "test_loader = torch.utils.data.DataLoader(dataset=test_dataset, \n",
    "                                          batch_size=batch_size, \n",
    "                                          shuffle=False)\n"
   ]
  },
  {
   "cell_type": "code",
   "execution_count": 58,
   "metadata": {},
   "outputs": [
    {
     "name": "stdout",
     "output_type": "stream",
     "text": [
      "torch.Size([1, 28, 28])\n"
     ]
    }
   ],
   "source": [
    "image, label = train_dataset[0]\n",
    "\n",
    "print(image.shape)"
   ]
  },
  {
   "cell_type": "code",
   "execution_count": 60,
   "metadata": {},
   "outputs": [
    {
     "data": {
      "image/png": "[encoded data removed]",
      "text/plain": [
       "<Figure size 432x288 with 9 Axes>"
      ]
     },
     "metadata": {
      "needs_background": "light"
     },
     "output_type": "display_data"
    }
   ],
   "source": [
    "\n",
    "for i in range(9):\n",
    "    plt.subplot(3,3,i+1)\n",
    "    plt.tight_layout()\n",
    "    image, label = train_dataset[i]\n",
    "    plt.imshow(image[0],cmap='gray', interpolation='none')\n",
    "    plt.title(\"Class {}\".format(label))\n",
    "    plt.axis('off')"
   ]
  },
  {
   "cell_type": "markdown",
   "metadata": {},
   "source": [
    "## Costruzione di una NN custom\n",
    "\n",
    "L'obiettivo è costruire un modello composto da 2 livelli Linear\n",
    "\n",
    "Si cotrisce un oggetto che estende la classe nn.Module, si implementa il metodo *\\_\\_init__* con l'inizializzazione della rete e si re-implemeta il metodo *forward* per effettuare l'operazione implementata dalla rete"
   ]
  },
  {
   "cell_type": "code",
   "execution_count": 81,
   "metadata": {},
   "outputs": [],
   "source": [
    "class SimpleFullyConnectedNet(nn.Module):\n",
    "    def __init__(self,input_size, hidden_size, num_classes):\n",
    "        super(SimpleFullyConnectedNet, self).__init__()\n",
    "        self.fc1 = nn.Linear(input_size, hidden_size) \n",
    "        self.relu = nn.ReLU()\n",
    "        self.fc2 = nn.Linear(hidden_size, num_classes)          \n",
    "        \n",
    "    def forward(self, x):\n",
    "        out = self.fc1(x)\n",
    "        out = self.relu(out)\n",
    "        out = self.fc2(out)\n",
    "        return out\n"
   ]
  },
  {
   "cell_type": "code",
   "execution_count": 82,
   "metadata": {},
   "outputs": [],
   "source": [
    "# Device configuration\n",
    "device = torch.device('cuda' if torch.cuda.is_available() else 'cpu')\n",
    "\n",
    "input_size = 28*28\n",
    "hidden_size = 300\n",
    "num_classes = 10\n",
    "batch_size = 100\n",
    "\n",
    "full_model = SimpleFullyConnectedNet(input_size, hidden_size, num_classes).to(device)"
   ]
  },
  {
   "cell_type": "markdown",
   "metadata": {},
   "source": [
    "#### TRAIN"
   ]
  },
  {
   "cell_type": "code",
   "execution_count": 83,
   "metadata": {},
   "outputs": [],
   "source": [
    "# Loss and optimizer\n",
    "criterion = nn.CrossEntropyLoss()\n",
    "learning_rate = 0.0005\n",
    "optimizer = torch.optim.Adam(full_model.parameters(), lr=learning_rate)  \n",
    "\n",
    "\n",
    "num_epochs = 3\n",
    "\n",
    "train_losses = []\n",
    "train_counter = []\n",
    "test_losses = []\n",
    "test_counter = [i*len(train_loader.dataset) for i in range(num_epochs + 1)]"
   ]
  },
  {
   "cell_type": "code",
   "execution_count": 84,
   "metadata": {},
   "outputs": [],
   "source": [
    "# The number of steps for each epoch, defined by the number of instances divided by the batch size. \n",
    "total_step = len(train_loader)\n",
    "\n",
    "def train(epoch,model,criterion,optimizer,reshape=True):\n",
    "    for batch_idx, (images, labels) in enumerate(train_loader):  \n",
    "        # Move tensors to the configured device\n",
    "        if reshape:\n",
    "            images = images.reshape(-1, 28*28)\n",
    "        images = images.to(device)\n",
    "        labels = labels.to(device)\n",
    "        \n",
    "        # Forward pass\n",
    "        outputs = model(images)\n",
    "        loss = criterion(outputs, labels)\n",
    "        \n",
    "        # Backward and optimize\n",
    "        optimizer.zero_grad()\n",
    "        loss.backward()\n",
    "        optimizer.step()\n",
    "        \n",
    "        if (batch_idx+1) % 100 == 0:\n",
    "            print ('Epoch [{}/{}], Step [{}/{}], Loss: {:.4f}' \n",
    "                   .format(epoch, num_epochs, batch_idx+1, total_step, loss.item()))\n",
    "        \n",
    "        train_losses.append(loss.item())\n",
    "        train_counter.append(\n",
    "        (batch_idx*batch_size) + ((epoch-1)*len(train_loader.dataset)))\n",
    "        \n",
    "def test(model,criterion,reshape=True):\n",
    "    test_loss = 0\n",
    "    correct = 0\n",
    "    \n",
    "    with torch.no_grad():\n",
    "        for images, labels in test_loader:\n",
    "            if reshape:\n",
    "                images = images.reshape(-1, 28*28)\n",
    "                \n",
    "            images = images.to(device)\n",
    "            labels = labels.to(device)\n",
    "            \n",
    "            outputs = model(images)\n",
    "            _, predicted = torch.max(outputs.data, 1)\n",
    "            \n",
    "            correct += (predicted == labels).sum().item()\n",
    "            \n",
    "            loss = criterion(outputs,labels,)\n",
    "            \n",
    "            test_loss += loss.item()\n",
    "            \n",
    "    test_loss /= len(test_loader.dataset)\n",
    "    test_losses.append(test_loss)\n",
    "    \n",
    "    print('\\nTest set: Avg. loss: {:.4f}, Accuracy: {}/{} ({:.0f}%)\\n'.format(\n",
    "        test_loss, correct, len(test_loader.dataset),\n",
    "        100. * correct / len(test_loader.dataset)))"
   ]
  },
  {
   "cell_type": "code",
   "execution_count": 85,
   "metadata": {},
   "outputs": [
    {
     "name": "stdout",
     "output_type": "stream",
     "text": [
      "\n",
      "Test set: Avg. loss: 0.0365, Accuracy: 830/10000 (8%)\n",
      "\n",
      "Epoch [1/3], Step [100/938], Loss: 0.6552\n",
      "Epoch [1/3], Step [200/938], Loss: 0.3209\n",
      "Epoch [1/3], Step [300/938], Loss: 0.3754\n",
      "Epoch [1/3], Step [400/938], Loss: 0.3850\n",
      "Epoch [1/3], Step [500/938], Loss: 0.1857\n",
      "Epoch [1/3], Step [600/938], Loss: 0.1851\n",
      "Epoch [1/3], Step [700/938], Loss: 0.1889\n",
      "Epoch [1/3], Step [800/938], Loss: 0.2391\n",
      "Epoch [1/3], Step [900/938], Loss: 0.1428\n",
      "\n",
      "Test set: Avg. loss: 0.0030, Accuracy: 9443/10000 (94%)\n",
      "\n",
      "Epoch [2/3], Step [100/938], Loss: 0.1472\n",
      "Epoch [2/3], Step [200/938], Loss: 0.1146\n",
      "Epoch [2/3], Step [300/938], Loss: 0.1145\n",
      "Epoch [2/3], Step [400/938], Loss: 0.3201\n",
      "Epoch [2/3], Step [500/938], Loss: 0.0903\n",
      "Epoch [2/3], Step [600/938], Loss: 0.2025\n",
      "Epoch [2/3], Step [700/938], Loss: 0.1085\n",
      "Epoch [2/3], Step [800/938], Loss: 0.1930\n",
      "Epoch [2/3], Step [900/938], Loss: 0.1691\n",
      "\n",
      "Test set: Avg. loss: 0.0022, Accuracy: 9596/10000 (96%)\n",
      "\n",
      "Epoch [3/3], Step [100/938], Loss: 0.1856\n",
      "Epoch [3/3], Step [200/938], Loss: 0.1439\n",
      "Epoch [3/3], Step [300/938], Loss: 0.1842\n",
      "Epoch [3/3], Step [400/938], Loss: 0.2046\n",
      "Epoch [3/3], Step [500/938], Loss: 0.0958\n",
      "Epoch [3/3], Step [600/938], Loss: 0.0929\n",
      "Epoch [3/3], Step [700/938], Loss: 0.0693\n",
      "Epoch [3/3], Step [800/938], Loss: 0.0861\n",
      "Epoch [3/3], Step [900/938], Loss: 0.1043\n",
      "\n",
      "Test set: Avg. loss: 0.0016, Accuracy: 9687/10000 (97%)\n",
      "\n"
     ]
    }
   ],
   "source": [
    "test(full_model,criterion)\n",
    "for epoch in range(1,num_epochs+1):\n",
    "    train(epoch,full_model,criterion,optimizer)\n",
    "    test(full_model,criterion)"
   ]
  },
  {
   "cell_type": "code",
   "execution_count": 86,
   "metadata": {},
   "outputs": [
    {
     "data": {
      "image/png": "[encoded data removed]",
      "text/plain": [
       "<Figure size 432x288 with 1 Axes>"
      ]
     },
     "metadata": {
      "needs_background": "light"
     },
     "output_type": "display_data"
    }
   ],
   "source": [
    "fig = plt.figure()\n",
    "plt.plot(train_counter, train_losses, color='blue')\n",
    "plt.scatter(test_counter, test_losses, color='red')\n",
    "plt.legend(['Train Loss', 'Test Loss'], loc='upper right')\n",
    "plt.xlabel('number of training examples seen')\n",
    "plt.ylabel('Cross Entropy Loss')\n",
    "plt.show()\n"
   ]
  },
  {
   "cell_type": "code",
   "execution_count": 87,
   "metadata": {},
   "outputs": [
    {
     "data": {
      "image/png": "[encoded data removed]",
      "text/plain": [
       "<Figure size 432x288 with 9 Axes>"
      ]
     },
     "metadata": {},
     "output_type": "display_data"
    }
   ],
   "source": [
    "# Predictions\n",
    "examples = enumerate(test_loader)\n",
    "batch_idx, (example_data, example_targets) = next(examples)\n",
    "\n",
    "\n",
    "for i in range(9):\n",
    "  plt.subplot(3,3,i+1)\n",
    "  \n",
    "  image, label = train_dataset[i]\n",
    "  with torch.no_grad():\n",
    "    output = full_model(image.reshape(-1, 28*28).to(device))\n",
    "    _, predicted = torch.max(output.data, 1)\n",
    "    \n",
    "    \n",
    "  \n",
    "  plt.tight_layout()\n",
    "  plt.imshow(image[0], cmap='gray', interpolation='none')\n",
    "  plt.title(\"Pred: {}\".format(predicted.item()))\n",
    "  plt.xticks([])\n",
    "  plt.yticks([])\n"
   ]
  },
  {
   "cell_type": "code",
   "execution_count": null,
   "metadata": {},
   "outputs": [],
   "source": []
  }
 ],
 "metadata": {
  "kernelspec": {
   "display_name": "Python 3",
   "language": "python",
   "name": "python3"
  },
  "language_info": {
   "codemirror_mode": {
    "name": "ipython",
    "version": 3
   },
   "file_extension": ".py",
   "mimetype": "text/x-python",
   "name": "python",
   "nbconvert_exporter": "python",
   "pygments_lexer": "ipython3",
   "version": "3.6.9"
  }
 },
 "nbformat": 4,
 "nbformat_minor": 4
}
