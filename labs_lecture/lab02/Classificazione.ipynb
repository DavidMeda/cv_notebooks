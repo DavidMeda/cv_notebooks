{
 "cells": [
  {
   "cell_type": "markdown",
   "metadata": {},
   "source": [
    "# Classificazione\n",
    "\n",
    "L'obiettivo di questo notebook è mostrare come preparare i dati in input e costruire un modello di classificazione/regressione.\n",
    "\n",
    "Il flusso logico (semplificato) del processo è composto dai seguenti passi:\n",
    "\n",
    "1. Si analizzano i dati in input e si effettua il pre-processing\n",
    "2. Si suddivide il dataset in train/validation/test\n",
    "3. Si costruisce e addestra il modello\n",
    "4. Si valutano i risultati\n"
   ]
  },
  {
   "cell_type": "code",
   "execution_count": 1,
   "metadata": {},
   "outputs": [],
   "source": [
    "import sklearn\n",
    "import numpy as np\n",
    "import matplotlib.pyplot as plt\n",
    "\n",
    "%matplotlib inline"
   ]
  },
  {
   "cell_type": "markdown",
   "metadata": {},
   "source": [
    "## Primo esempio\n",
    "\n",
    "Si generano dei dati casuali e si costruisce un modello di regressione lineare\n",
    "\n",
    "Si \"cercano\" i parametri che definiscono il modello\n",
    "\n",
    "    $y = mx + b$\n",
    "    \n",
    "![](regression.png)\n",
    "\n",
    "Nell'esempio della rette è facile individuare i due parametri denominati *slope* e *intercept*\n",
    "\n",
    "La libreria sklearn mette a disposizione diverse implementazioni di modelli di regressione.\n",
    "Info: https://scikit-learn.org/stable/modules/linear_model.html\n"
   ]
  },
  {
   "cell_type": "code",
   "execution_count": 2,
   "metadata": {},
   "outputs": [
    {
     "data": {
      "image/png": "[encoded data removed]",
      "text/plain": [
       "<Figure size 432x288 with 1 Axes>"
      ]
     },
     "metadata": {
      "needs_background": "light"
     },
     "output_type": "display_data"
    }
   ],
   "source": [
    "rng = np.random.RandomState(8737) # generatore di numeri casuali\n",
    "\n",
    "# y = 2 x - 5\n",
    "x = 10 * rng.rand(50)\n",
    "y = 2 * x - 5 + rng.randn(50)\n",
    "\n",
    "plt.scatter(x, y);"
   ]
  },
  {
   "cell_type": "markdown",
   "metadata": {},
   "source": [
    "### class sklearn.linear_model.LinearRegression(fit_intercept=True, normalize=False, copy_X=True, n_jobs=None)\n",
    "\n",
    "Ordinary least squares Linear Regression.\n",
    "\n",
    "LinearRegression fits a linear model with coefficients w = (w1, …, wp) to minimize the residual sum of squares between the observed targets in the dataset, and the targets predicted by the linear approximation.\n",
    "\n",
    "Parameters\n",
    "\n",
    "**fit_interceptbool**, optional, default True\n",
    "\n",
    "            Whether to calculate the intercept for this model. If set to False, no intercept will be used in calculations (i.e. data is expected to be centered).\n",
    "        \n",
    "**normalizebool**, optional, default False\n",
    "\n",
    "            This parameter is ignored when fit_intercept is set to False. If True, the regressors X will be normalized before regression by subtracting the mean and dividing by the l2-norm. If you wish to standardize, please use sklearn.preprocessing.StandardScaler before calling fit on an estimator with normalize=False.\n",
    "        \n",
    "**copy_X** bool, optional, default True\n",
    "\n",
    "            If True, X will be copied; else, it may be overwritten.\n",
    "\n",
    "**n_jobsint** or None, optional (default=None)\n",
    "\n",
    "            The number of jobs to use for the computation. This will only provide speedup for n_targets > 1 and sufficient large problems. None means 1 unless in a joblib.parallel_backend context. -1 means using all processors. See Glossary for more details.\n",
    "\n",
    "**Osservazioni**\n",
    "\n",
    "Con il metodo **fit()** si avvia la procedura di stima dei parametri del modello\n",
    "\n",
    "Con il metodo **predict()** si applica il modello ad un nuovo set di dati e per il quale si vuole ottenere l'ouput, i.e. y = f(x). "
   ]
  },
  {
   "cell_type": "code",
   "execution_count": 3,
   "metadata": {},
   "outputs": [
    {
     "name": "stdout",
     "output_type": "stream",
     "text": [
      "x = (50,)\ty = (50,)\n"
     ]
    }
   ],
   "source": [
    "print(f'x = {x.shape}\\ty = {y.shape}')"
   ]
  },
  {
   "cell_type": "code",
   "execution_count": 4,
   "metadata": {},
   "outputs": [
    {
     "data": {
      "image/png": "[encoded data removed]",
      "text/plain": [
       "<Figure size 432x288 with 1 Axes>"
      ]
     },
     "metadata": {
      "needs_background": "light"
     },
     "output_type": "display_data"
    }
   ],
   "source": [
    "from sklearn.linear_model import LinearRegression\n",
    "\n",
    "# create the model\n",
    "model = LinearRegression(fit_intercept=True)\n",
    "\n",
    "# compute parameters, i.e. fit to data\n",
    "model.fit(x[:, np.newaxis], y)\n",
    "\n",
    "# use the model to plot the y = mx + b function\n",
    "xfit = np.linspace(0, 10, 1000)\n",
    "yfit = model.predict(xfit[:, np.newaxis])\n",
    "\n",
    "plt.scatter(x, y)\n",
    "plt.plot(xfit, yfit, color='r');"
   ]
  },
  {
   "cell_type": "markdown",
   "metadata": {},
   "source": [
    "### fit(self, X, y, sample_weight=None)\n",
    "Fit the calibrated model\n",
    "\n",
    "Parameters:\n",
    "\n",
    "- **Xarray-like**, shape (n_samples, n_features)\n",
    "  Training data.\n",
    "- **yarray-like**, shape (n_samples,)\n",
    "  Target values.\n",
    "- **sample_weightarray-like** of shape (n_samples,), default=None.  \n",
    "  Sample weights. If None, then samples are equally weighted.\n",
    "\n",
    "\n",
    "Il metodo fit accetta come parametri **x** con shape (n_samples, n_features) e **y** con shape (n_samples,). Nell'esempio precedente **y** ha già una shape compatibile, mentre **x** ha una shape (n_samples,). Quindi dobiamo trasformare l'array con l'istruzione:\n",
    "\n",
    "    x[:, np.newaxis] --> (n_samples, 1)\n",
    "    \n",
    "l'attributo **numpy.newaxis** è un alias al valore *None* da utilizzare nelle funzioni che accettano *indici*, permette di creare una nuova dimensione"
   ]
  },
  {
   "cell_type": "code",
   "execution_count": 5,
   "metadata": {},
   "outputs": [
    {
     "data": {
      "text/plain": [
       "'(50,) --> (50, 1)'"
      ]
     },
     "execution_count": 5,
     "metadata": {},
     "output_type": "execute_result"
    }
   ],
   "source": [
    "s1 = x.shape\n",
    "s2 = x[:, np.newaxis].shape\n",
    "\n",
    "f'{s1} --> {s2}'"
   ]
  },
  {
   "cell_type": "code",
   "execution_count": 6,
   "metadata": {},
   "outputs": [
    {
     "name": "stdout",
     "output_type": "stream",
     "text": [
      "Model slope:      1.99\n",
      "Model intercept: -5.11\n"
     ]
    }
   ],
   "source": [
    "# y = 2 x - 5\n",
    "\n",
    "print(f'Model slope:      {model.coef_[0]:.2f}')\n",
    "print(f'Model intercept: {model.intercept_:.2f}')\n",
    "\n"
   ]
  },
  {
   "cell_type": "markdown",
   "metadata": {},
   "source": [
    "# Classificazione del dataset MNIST\n",
    "\n",
    "Il dataset MINIST è costituito da immagini 28x28 pixel contenenti numeri scritti a mano. L'obiettivo è classificare ogni immagine con il numero corrispondente. Quindi serve addestrare un classificatore in grado di riconoscere 10 classi, i numeri da 1 a 10.\n",
    "\n",
    "Le prossime celle del notebook eseguiranno le seguenti operazioni:\n",
    "\n",
    "1. Caricamento del dataset\n",
    "2. Split in train/test\n",
    "3. Addestramento del modello\n",
    "4. Valutazione dei risultati"
   ]
  },
  {
   "cell_type": "code",
   "execution_count": 7,
   "metadata": {},
   "outputs": [],
   "source": [
    "# loading of the mnist dataset at https://www.openml.org/d/554\n",
    "from sklearn.datasets import fetch_openml\n",
    "\n",
    "mnist_data = fetch_openml('mnist_784')"
   ]
  },
  {
   "cell_type": "code",
   "execution_count": 8,
   "metadata": {},
   "outputs": [
    {
     "data": {
      "text/plain": [
       "dict_keys(['data', 'target', 'frame', 'feature_names', 'target_names', 'DESCR', 'details', 'categories', 'url'])"
      ]
     },
     "execution_count": 8,
     "metadata": {},
     "output_type": "execute_result"
    }
   ],
   "source": [
    "mnist_data.keys()"
   ]
  },
  {
   "cell_type": "code",
   "execution_count": 9,
   "metadata": {},
   "outputs": [
    {
     "name": "stdout",
     "output_type": "stream",
     "text": [
      "x = (70000, 784)    y = (70000,)\n",
      "x type is float64, y type is object\n"
     ]
    }
   ],
   "source": [
    "x, y = mnist_data['data'], mnist_data['target']\n",
    "\n",
    "print(f'x = {x.shape}    y = {y.shape}')\n",
    "\n",
    "# check data types\n",
    "print(f'x type is {x.dtype}, y type is {y.dtype}')"
   ]
  },
  {
   "cell_type": "code",
   "execution_count": 10,
   "metadata": {},
   "outputs": [
    {
     "name": "stdout",
     "output_type": "stream",
     "text": [
      "x type is float64, y type is uint8\n"
     ]
    }
   ],
   "source": [
    "y = y.astype(np.uint8)\n",
    "print(f'x type is {x.dtype}, y type is {y.dtype}')"
   ]
  },
  {
   "cell_type": "code",
   "execution_count": 11,
   "metadata": {},
   "outputs": [
    {
     "data": {
      "image/png": "[encoded data removed]",
      "text/plain": [
       "<Figure size 432x288 with 3 Axes>"
      ]
     },
     "metadata": {
      "needs_background": "light"
     },
     "output_type": "display_data"
    }
   ],
   "source": [
    "\n",
    "fig, ax = plt.subplots(1, 3)\n",
    "\n",
    "for i in range(3):\n",
    "    img = x[i].reshape(28, 28)\n",
    "    ax[i].imshow(img)\n",
    "    ax[i].title.set_text(f'Label {y[i]}')\n",
    "    ax[i].axis('off')\n",
    "\n",
    "plt.show()"
   ]
  },
  {
   "cell_type": "markdown",
   "metadata": {},
   "source": [
    "## Split train/test\n",
    "\n",
    "#### sklearn.model_selection.train_test_split(\\*arrays, \\*\\*options)\n",
    "\n",
    "Split arrays into random train and test subsets\n",
    "\n",
    "Parameters:\n",
    "\n",
    "- **\\*arrayssequence** of indexables with same length / shape[0]\n",
    "  Allowed inputs are lists, numpy arrays, scipy-sparse matrices or pandas dataframes.\n",
    "\n",
    "- **test_size** float, int or None, optional (default=None)\n",
    "    If float, should be between 0.0 and 1.0 and represent the proportion of the dataset to include in the test split. If int, represents the absolute number of test samples. If None, the value is set to the complement of the train size. If train_size is also None, it will be set to 0.25.\n",
    "\n",
    "- **train_size** float, int, or None, (default=None)\n",
    "    If float, should be between 0.0 and 1.0 and represent the proportion of the dataset to include in the train split. If int, represents the absolute number of train samples. If None, the value is automatically set to the complement of the test size.\n",
    "\n",
    "- **random_state** int, RandomState instance or None, optional (default=None)\n",
    "    If int, random_state is the seed used by the random number generator; If RandomState instance, random_state is the random number generator; If None, the random number generator is the RandomState instance used by np.random.\n",
    "\n",
    "- **shuffle** boolean, optional (default=True)\n",
    "    Whether or not to shuffle the data before splitting. If shuffle=False then stratify must be None.\n",
    "\n",
    "- **stratifyarray-like** or None (default=None)\n",
    "    If not None, data is split in a stratified fashion, using this as the class labels.\n",
    "\n",
    "**Returns**\n",
    "- splittinglist, length=2 * len(arrays)\n",
    "    List containing train-test split of inputs.\n"
   ]
  },
  {
   "cell_type": "code",
   "execution_count": 12,
   "metadata": {},
   "outputs": [
    {
     "name": "stdout",
     "output_type": "stream",
     "text": [
      "Train x = (60000, 784) and y = (60000,)\n",
      "Test  x = (10000, 784) and y = (10000,)\n"
     ]
    }
   ],
   "source": [
    "# SPLIT train/test\n",
    "from sklearn.model_selection import train_test_split\n",
    "\n",
    "x_train, x_test, y_train, y_test = train_test_split(x, y,\n",
    "                                                   test_size=10000,\n",
    "                                                   shuffle=True,\n",
    "                                                   random_state=8735,\n",
    "                                                   stratify=y)\n",
    "\n",
    "print(f'Train x = {x_train.shape} and y = {y_train.shape}')\n",
    "print(f'Test  x = {x_test.shape} and y = {y_test.shape}')"
   ]
  },
  {
   "cell_type": "code",
   "execution_count": 13,
   "metadata": {},
   "outputs": [
    {
     "data": {
      "text/html": [
       "<div>\n",
       "<style scoped>\n",
       "    .dataframe tbody tr th:only-of-type {\n",
       "        vertical-align: middle;\n",
       "    }\n",
       "\n",
       "    .dataframe tbody tr th {\n",
       "        vertical-align: top;\n",
       "    }\n",
       "\n",
       "    .dataframe thead th {\n",
       "        text-align: right;\n",
       "    }\n",
       "</style>\n",
       "<table border=\"1\" class=\"dataframe\">\n",
       "  <thead>\n",
       "    <tr style=\"text-align: right;\">\n",
       "      <th></th>\n",
       "      <th>0</th>\n",
       "      <th>1</th>\n",
       "      <th>2</th>\n",
       "      <th>3</th>\n",
       "      <th>4</th>\n",
       "      <th>5</th>\n",
       "      <th>6</th>\n",
       "      <th>7</th>\n",
       "      <th>8</th>\n",
       "      <th>9</th>\n",
       "    </tr>\n",
       "  </thead>\n",
       "  <tbody>\n",
       "    <tr>\n",
       "      <th>dataset</th>\n",
       "      <td>6903</td>\n",
       "      <td>7877</td>\n",
       "      <td>6990</td>\n",
       "      <td>7141</td>\n",
       "      <td>6824</td>\n",
       "      <td>6313</td>\n",
       "      <td>6876</td>\n",
       "      <td>7293</td>\n",
       "      <td>6825</td>\n",
       "      <td>6958</td>\n",
       "    </tr>\n",
       "    <tr>\n",
       "      <th>train</th>\n",
       "      <td>5917</td>\n",
       "      <td>6752</td>\n",
       "      <td>5991</td>\n",
       "      <td>6121</td>\n",
       "      <td>5849</td>\n",
       "      <td>5411</td>\n",
       "      <td>5894</td>\n",
       "      <td>6251</td>\n",
       "      <td>5850</td>\n",
       "      <td>5964</td>\n",
       "    </tr>\n",
       "    <tr>\n",
       "      <th>test</th>\n",
       "      <td>986</td>\n",
       "      <td>1125</td>\n",
       "      <td>999</td>\n",
       "      <td>1020</td>\n",
       "      <td>975</td>\n",
       "      <td>902</td>\n",
       "      <td>982</td>\n",
       "      <td>1042</td>\n",
       "      <td>975</td>\n",
       "      <td>994</td>\n",
       "    </tr>\n",
       "  </tbody>\n",
       "</table>\n",
       "</div>"
      ],
      "text/plain": [
       "            0     1     2     3     4     5     6     7     8     9\n",
       "dataset  6903  7877  6990  7141  6824  6313  6876  7293  6825  6958\n",
       "train    5917  6752  5991  6121  5849  5411  5894  6251  5850  5964\n",
       "test      986  1125   999  1020   975   902   982  1042   975   994"
      ]
     },
     "execution_count": 13,
     "metadata": {},
     "output_type": "execute_result"
    }
   ],
   "source": [
    "# check class cardinality\n",
    "import pandas as pd\n",
    "\n",
    "cntDataset = np.bincount(y) # shape (10,)\n",
    "cntTrain = np.bincount(y_train)\n",
    "cntTest = np.bincount(y_test)\n",
    "\n",
    "# data must have shape (3, 10)\n",
    "data = np.concatenate((cntDataset.reshape(1, 10), cntTrain.reshape(1, 10), cntTest.reshape(1, 10)), axis=0)\n",
    "\n",
    "df = pd.DataFrame(data, columns=range(10), index=['dataset', 'train', 'test'])\n",
    "df.head(3)"
   ]
  },
  {
   "cell_type": "code",
   "execution_count": 14,
   "metadata": {},
   "outputs": [
    {
     "data": {
      "text/html": [
       "<div>\n",
       "<style scoped>\n",
       "    .dataframe tbody tr th:only-of-type {\n",
       "        vertical-align: middle;\n",
       "    }\n",
       "\n",
       "    .dataframe tbody tr th {\n",
       "        vertical-align: top;\n",
       "    }\n",
       "\n",
       "    .dataframe thead th {\n",
       "        text-align: right;\n",
       "    }\n",
       "</style>\n",
       "<table border=\"1\" class=\"dataframe\">\n",
       "  <thead>\n",
       "    <tr style=\"text-align: right;\">\n",
       "      <th></th>\n",
       "      <th>0</th>\n",
       "      <th>1</th>\n",
       "      <th>2</th>\n",
       "      <th>3</th>\n",
       "      <th>4</th>\n",
       "      <th>5</th>\n",
       "      <th>6</th>\n",
       "      <th>7</th>\n",
       "      <th>8</th>\n",
       "      <th>9</th>\n",
       "    </tr>\n",
       "  </thead>\n",
       "  <tbody>\n",
       "    <tr>\n",
       "      <th>dataset</th>\n",
       "      <td>9.9</td>\n",
       "      <td>11.3</td>\n",
       "      <td>10.0</td>\n",
       "      <td>10.2</td>\n",
       "      <td>9.7</td>\n",
       "      <td>9.0</td>\n",
       "      <td>9.8</td>\n",
       "      <td>10.4</td>\n",
       "      <td>9.8</td>\n",
       "      <td>9.9</td>\n",
       "    </tr>\n",
       "    <tr>\n",
       "      <th>train</th>\n",
       "      <td>9.9</td>\n",
       "      <td>11.3</td>\n",
       "      <td>10.0</td>\n",
       "      <td>10.2</td>\n",
       "      <td>9.7</td>\n",
       "      <td>9.0</td>\n",
       "      <td>9.8</td>\n",
       "      <td>10.4</td>\n",
       "      <td>9.8</td>\n",
       "      <td>9.9</td>\n",
       "    </tr>\n",
       "    <tr>\n",
       "      <th>test</th>\n",
       "      <td>9.9</td>\n",
       "      <td>11.2</td>\n",
       "      <td>10.0</td>\n",
       "      <td>10.2</td>\n",
       "      <td>9.8</td>\n",
       "      <td>9.0</td>\n",
       "      <td>9.8</td>\n",
       "      <td>10.4</td>\n",
       "      <td>9.8</td>\n",
       "      <td>9.9</td>\n",
       "    </tr>\n",
       "  </tbody>\n",
       "</table>\n",
       "</div>"
      ],
      "text/plain": [
       "           0     1     2     3    4    5    6     7    8    9\n",
       "dataset  9.9  11.3  10.0  10.2  9.7  9.0  9.8  10.4  9.8  9.9\n",
       "train    9.9  11.3  10.0  10.2  9.7  9.0  9.8  10.4  9.8  9.9\n",
       "test     9.9  11.2  10.0  10.2  9.8  9.0  9.8  10.4  9.8  9.9"
      ]
     },
     "execution_count": 14,
     "metadata": {},
     "output_type": "execute_result"
    }
   ],
   "source": [
    "# as perc\n",
    "dfPerc = df.div(df.sum(axis=1), axis=0).mul(100).round(1)\n",
    "dfPerc.head(3)"
   ]
  },
  {
   "cell_type": "markdown",
   "metadata": {},
   "source": [
    "## Train the model\n",
    "\n",
    "Per l'addestramento del modello è stato scelto un algoritmo di regressione logistica\n",
    "\n",
    "#### class sklearn.linear_model.SGDClassifier(loss='hinge', penalty='l2', alpha=0.0001, l1_ratio=0.15, fit_intercept=True, max_iter=1000, tol=0.001, shuffle=True, verbose=0, epsilon=0.1, n_jobs=None, random_state=None, learning_rate='optimal', eta0=0.0, power_t=0.5, early_stopping=False, validation_fraction=0.1, n_iter_no_change=5, class_weight=None, warm_start=False, average=False)\n",
    "\n",
    "Linear classifiers (SVM, logistic regression, a.o.) with SGD training.\n",
    "\n",
    "This estimator implements regularized linear models with stochastic gradient descent (SGD) learning: the gradient of the loss is estimated each sample at a time and the model is updated along the way with a decreasing strength schedule (aka learning rate). SGD allows minibatch (online/out-of-core) learning, see the partial_fit method. For best results using the default learning rate schedule, the data should have zero mean and unit variance.\n",
    "\n",
    "Parameters:\n",
    "\n",
    "- **loss** str, default=’hinge’\n",
    "  The loss function to be used. Defaults to ‘hinge’, which gives a linear SVM.\n",
    "  The possible options are ‘hinge’, ‘log’, ‘modified_huber’, ‘squared_hinge’, ‘perceptron’, or a regression loss: ‘squared_loss’, ‘huber’, ‘epsilon_insensitive’, or ‘squared_epsilon_insensitive’.\n",
    "  The ‘log’ loss gives logistic regression, a probabilistic classifier. ‘modified_huber’ is another smooth loss that brings tolerance to outliers as well as probability estimates. ‘squared_hinge’ is like hinge but is quadratically penalized. ‘perceptron’ is the linear loss used by the perceptron algorithm. The other losses are designed for regression but can be useful in classification as well; see SGDRegressor for a description.\n"
   ]
  },
  {
   "cell_type": "code",
   "execution_count": 15,
   "metadata": {},
   "outputs": [
    {
     "name": "stdout",
     "output_type": "stream",
     "text": [
      "DONE\n"
     ]
    }
   ],
   "source": [
    "# Train the model\n",
    "from sklearn.linear_model import SGDClassifier\n",
    "\n",
    "model = SGDClassifier(loss='log', random_state=2936)\n",
    "model.fit(x_train, y_train)\n",
    "\n",
    "print('DONE')"
   ]
  },
  {
   "cell_type": "code",
   "execution_count": 16,
   "metadata": {},
   "outputs": [
    {
     "name": "stdout",
     "output_type": "stream",
     "text": [
      "Training Accuracy:  0.8768\n",
      "Test Accuracy:      0.8572\n"
     ]
    }
   ],
   "source": [
    "# evaluate training performance as global accuracy\n",
    "\n",
    "scoreTraining = model.score(x_train, y_train)\n",
    "scoreTest = model.score(x_test, y_test)\n",
    "\n",
    "print(f'Training Accuracy:  {scoreTraining:.4f}')\n",
    "print(f'Test Accuracy:      {scoreTest:.4f}')"
   ]
  },
  {
   "cell_type": "code",
   "execution_count": 17,
   "metadata": {},
   "outputs": [
    {
     "name": "stdout",
     "output_type": "stream",
     "text": [
      "shape is (10000,)\n",
      "prediction for first image: 4\n"
     ]
    }
   ],
   "source": [
    "# retrieve raw prediction\n",
    "\n",
    "y_pred = model.predict(x_test)\n",
    "\n",
    "print(f'shape is {y_pred.shape}')\n",
    "print(f'prediction for first image: {y_pred[0]}')"
   ]
  },
  {
   "cell_type": "code",
   "execution_count": 18,
   "metadata": {},
   "outputs": [
    {
     "data": {
      "text/html": [
       "<div>\n",
       "<style scoped>\n",
       "    .dataframe tbody tr th:only-of-type {\n",
       "        vertical-align: middle;\n",
       "    }\n",
       "\n",
       "    .dataframe tbody tr th {\n",
       "        vertical-align: top;\n",
       "    }\n",
       "\n",
       "    .dataframe thead th {\n",
       "        text-align: right;\n",
       "    }\n",
       "</style>\n",
       "<table border=\"1\" class=\"dataframe\">\n",
       "  <thead>\n",
       "    <tr style=\"text-align: right;\">\n",
       "      <th></th>\n",
       "      <th>0</th>\n",
       "      <th>1</th>\n",
       "      <th>2</th>\n",
       "      <th>3</th>\n",
       "      <th>4</th>\n",
       "      <th>5</th>\n",
       "      <th>6</th>\n",
       "      <th>7</th>\n",
       "      <th>8</th>\n",
       "      <th>9</th>\n",
       "    </tr>\n",
       "  </thead>\n",
       "  <tbody>\n",
       "    <tr>\n",
       "      <th>0</th>\n",
       "      <td>858</td>\n",
       "      <td>0</td>\n",
       "      <td>2</td>\n",
       "      <td>19</td>\n",
       "      <td>3</td>\n",
       "      <td>25</td>\n",
       "      <td>24</td>\n",
       "      <td>3</td>\n",
       "      <td>48</td>\n",
       "      <td>4</td>\n",
       "    </tr>\n",
       "    <tr>\n",
       "      <th>1</th>\n",
       "      <td>0</td>\n",
       "      <td>1055</td>\n",
       "      <td>4</td>\n",
       "      <td>10</td>\n",
       "      <td>4</td>\n",
       "      <td>2</td>\n",
       "      <td>3</td>\n",
       "      <td>1</td>\n",
       "      <td>44</td>\n",
       "      <td>2</td>\n",
       "    </tr>\n",
       "    <tr>\n",
       "      <th>2</th>\n",
       "      <td>0</td>\n",
       "      <td>15</td>\n",
       "      <td>631</td>\n",
       "      <td>101</td>\n",
       "      <td>8</td>\n",
       "      <td>4</td>\n",
       "      <td>45</td>\n",
       "      <td>23</td>\n",
       "      <td>160</td>\n",
       "      <td>12</td>\n",
       "    </tr>\n",
       "    <tr>\n",
       "      <th>3</th>\n",
       "      <td>0</td>\n",
       "      <td>0</td>\n",
       "      <td>9</td>\n",
       "      <td>946</td>\n",
       "      <td>0</td>\n",
       "      <td>19</td>\n",
       "      <td>4</td>\n",
       "      <td>4</td>\n",
       "      <td>31</td>\n",
       "      <td>7</td>\n",
       "    </tr>\n",
       "    <tr>\n",
       "      <th>4</th>\n",
       "      <td>1</td>\n",
       "      <td>2</td>\n",
       "      <td>2</td>\n",
       "      <td>3</td>\n",
       "      <td>799</td>\n",
       "      <td>2</td>\n",
       "      <td>28</td>\n",
       "      <td>9</td>\n",
       "      <td>57</td>\n",
       "      <td>72</td>\n",
       "    </tr>\n",
       "    <tr>\n",
       "      <th>5</th>\n",
       "      <td>6</td>\n",
       "      <td>0</td>\n",
       "      <td>1</td>\n",
       "      <td>73</td>\n",
       "      <td>7</td>\n",
       "      <td>691</td>\n",
       "      <td>29</td>\n",
       "      <td>0</td>\n",
       "      <td>64</td>\n",
       "      <td>31</td>\n",
       "    </tr>\n",
       "    <tr>\n",
       "      <th>6</th>\n",
       "      <td>3</td>\n",
       "      <td>1</td>\n",
       "      <td>5</td>\n",
       "      <td>2</td>\n",
       "      <td>1</td>\n",
       "      <td>10</td>\n",
       "      <td>943</td>\n",
       "      <td>0</td>\n",
       "      <td>17</td>\n",
       "      <td>0</td>\n",
       "    </tr>\n",
       "    <tr>\n",
       "      <th>7</th>\n",
       "      <td>4</td>\n",
       "      <td>2</td>\n",
       "      <td>6</td>\n",
       "      <td>12</td>\n",
       "      <td>11</td>\n",
       "      <td>3</td>\n",
       "      <td>2</td>\n",
       "      <td>946</td>\n",
       "      <td>13</td>\n",
       "      <td>43</td>\n",
       "    </tr>\n",
       "    <tr>\n",
       "      <th>8</th>\n",
       "      <td>2</td>\n",
       "      <td>10</td>\n",
       "      <td>0</td>\n",
       "      <td>46</td>\n",
       "      <td>4</td>\n",
       "      <td>19</td>\n",
       "      <td>11</td>\n",
       "      <td>3</td>\n",
       "      <td>868</td>\n",
       "      <td>12</td>\n",
       "    </tr>\n",
       "    <tr>\n",
       "      <th>9</th>\n",
       "      <td>5</td>\n",
       "      <td>1</td>\n",
       "      <td>2</td>\n",
       "      <td>34</td>\n",
       "      <td>11</td>\n",
       "      <td>4</td>\n",
       "      <td>0</td>\n",
       "      <td>39</td>\n",
       "      <td>63</td>\n",
       "      <td>835</td>\n",
       "    </tr>\n",
       "  </tbody>\n",
       "</table>\n",
       "</div>"
      ],
      "text/plain": [
       "     0     1    2    3    4    5    6    7    8    9\n",
       "0  858     0    2   19    3   25   24    3   48    4\n",
       "1    0  1055    4   10    4    2    3    1   44    2\n",
       "2    0    15  631  101    8    4   45   23  160   12\n",
       "3    0     0    9  946    0   19    4    4   31    7\n",
       "4    1     2    2    3  799    2   28    9   57   72\n",
       "5    6     0    1   73    7  691   29    0   64   31\n",
       "6    3     1    5    2    1   10  943    0   17    0\n",
       "7    4     2    6   12   11    3    2  946   13   43\n",
       "8    2    10    0   46    4   19   11    3  868   12\n",
       "9    5     1    2   34   11    4    0   39   63  835"
      ]
     },
     "execution_count": 18,
     "metadata": {},
     "output_type": "execute_result"
    }
   ],
   "source": [
    "# evaluate with confusion matrix\n",
    "from sklearn.metrics import confusion_matrix\n",
    "\n",
    "# cm is the matrix M x M with M = classes\n",
    "cm = confusion_matrix(y_test, y_pred)\n",
    "\n",
    "pd.DataFrame(cm, columns=range(10)).head(10)"
   ]
  },
  {
   "cell_type": "code",
   "execution_count": 20,
   "metadata": {},
   "outputs": [
    {
     "name": "stdout",
     "output_type": "stream",
     "text": [
      "\n",
      "\n",
      "CLASS 0\n",
      "|       |   False |   True |\n",
      "|:------|--------:|-------:|\n",
      "| False |    8993 |     21 |\n",
      "| True  |     128 |    858 |\n",
      "\n",
      "\n",
      "CLASS 1\n",
      "|       |   False |   True |\n",
      "|:------|--------:|-------:|\n",
      "| False |    8844 |     31 |\n",
      "| True  |      70 |   1055 |\n",
      "\n",
      "\n",
      "CLASS 2\n",
      "|       |   False |   True |\n",
      "|:------|--------:|-------:|\n",
      "| False |    8970 |     31 |\n",
      "| True  |     368 |    631 |\n",
      "\n",
      "\n",
      "CLASS 3\n",
      "|       |   False |   True |\n",
      "|:------|--------:|-------:|\n",
      "| False |    8680 |    300 |\n",
      "| True  |      74 |    946 |\n",
      "\n",
      "\n",
      "CLASS 4\n",
      "|       |   False |   True |\n",
      "|:------|--------:|-------:|\n",
      "| False |    8976 |     49 |\n",
      "| True  |     176 |    799 |\n",
      "\n",
      "\n",
      "CLASS 5\n",
      "|       |   False |   True |\n",
      "|:------|--------:|-------:|\n",
      "| False |    9010 |     88 |\n",
      "| True  |     211 |    691 |\n",
      "\n",
      "\n",
      "CLASS 6\n",
      "|       |   False |   True |\n",
      "|:------|--------:|-------:|\n",
      "| False |    8872 |    146 |\n",
      "| True  |      39 |    943 |\n",
      "\n",
      "\n",
      "CLASS 7\n",
      "|       |   False |   True |\n",
      "|:------|--------:|-------:|\n",
      "| False |    8876 |     82 |\n",
      "| True  |      96 |    946 |\n",
      "\n",
      "\n",
      "CLASS 8\n",
      "|       |   False |   True |\n",
      "|:------|--------:|-------:|\n",
      "| False |    8528 |    497 |\n",
      "| True  |     107 |    868 |\n",
      "\n",
      "\n",
      "CLASS 9\n",
      "|       |   False |   True |\n",
      "|:------|--------:|-------:|\n",
      "| False |    8823 |    183 |\n",
      "| True  |     159 |    835 |\n"
     ]
    }
   ],
   "source": [
    "# multiclass TP and FP rate\n",
    "from sklearn.metrics import multilabel_confusion_matrix\n",
    "\n",
    "mcm = multilabel_confusion_matrix(y_test, y_pred)\n",
    "\n",
    "for idx_class in range(10):\n",
    "    confusion_matrix = mcm[idx_class, ...]\n",
    "    \n",
    "    print(f'\\n\\nCLASS {idx_class}')\n",
    "    # true label on row, prediction on column\n",
    "    print(pd.DataFrame(confusion_matrix, columns=['False', 'True'], index=['False', 'True']).to_markdown())"
   ]
  },
  {
   "cell_type": "markdown",
   "metadata": {},
   "source": [
    "#### sklearn.metrics.classification_report(y_true, y_pred, labels=None, target_names=None, sample_weight=None, digits=2, output_dict=False, zero_division='warn')\n",
    "\n",
    "Returns:  \n",
    "**report** string / dict\n",
    "Text summary of the precision, recall, F1 score for each class. Dictionary returned if output_dict is True. Dictionary has the following structure:\n",
    "\n",
    "    {'label 1': {'precision':0.5,\n",
    "                 'recall':1.0,\n",
    "                 'f1-score':0.67,\n",
    "                 'support':1},\n",
    "     'label 2': { ... },\n",
    "      ...\n",
    "    }\n",
    "\n",
    "The reported averages include macro average (averaging the unweighted mean per label), weighted average (averaging the support-weighted mean per label), and sample average (only for multilabel classification). Micro average (averaging the total true positives, false negatives and false positives) is only shown for multi-label or multi-class with a subset of classes, because it corresponds to accuracy otherwise."
   ]
  },
  {
   "cell_type": "code",
   "execution_count": 22,
   "metadata": {},
   "outputs": [
    {
     "name": "stdout",
     "output_type": "stream",
     "text": [
      "              precision    recall  f1-score   support\n",
      "\n",
      "           0       0.98      0.87      0.92       986\n",
      "           1       0.97      0.94      0.95      1125\n",
      "           2       0.95      0.63      0.76       999\n",
      "           3       0.76      0.93      0.83      1020\n",
      "           4       0.94      0.82      0.88       975\n",
      "           5       0.89      0.77      0.82       902\n",
      "           6       0.87      0.96      0.91       982\n",
      "           7       0.92      0.91      0.91      1042\n",
      "           8       0.64      0.89      0.74       975\n",
      "           9       0.82      0.84      0.83       994\n",
      "\n",
      "    accuracy                           0.86     10000\n",
      "   macro avg       0.87      0.86      0.86     10000\n",
      "weighted avg       0.87      0.86      0.86     10000\n",
      "\n"
     ]
    }
   ],
   "source": [
    "from sklearn.metrics import classification_report\n",
    "\n",
    "report = classification_report(y_test, y_pred)\n",
    "print(report)"
   ]
  },
  {
   "cell_type": "code",
   "execution_count": null,
   "metadata": {},
   "outputs": [],
   "source": []
  }
 ],
 "metadata": {
  "kernelspec": {
   "display_name": "Python 3",
   "language": "python",
   "name": "python3"
  },
  "language_info": {
   "codemirror_mode": {
    "name": "ipython",
    "version": 3
   },
   "file_extension": ".py",
   "mimetype": "text/x-python",
   "name": "python",
   "nbconvert_exporter": "python",
   "pygments_lexer": "ipython3",
   "version": "3.6.9"
  }
 },
 "nbformat": 4,
 "nbformat_minor": 4
}
